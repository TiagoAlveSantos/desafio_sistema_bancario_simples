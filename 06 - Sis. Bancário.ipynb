{
 "cells": [
  {
   "cell_type": "code",
   "execution_count": 30,
   "id": "2a46341c-1e33-4385-a86f-36693aa5c132",
   "metadata": {},
   "outputs": [
    {
     "name": "stdin",
     "output_type": "stream",
     "text": [
      "\n",
      "\n",
      "[d] Depositar\n",
      "[s] Sacar\n",
      "[e] Extrato\n",
      "[q] Sair\n",
      "\n",
      "=>  d\n",
      "Digite o valor que deseja depositar: 499.90\n"
     ]
    },
    {
     "name": "stdout",
     "output_type": "stream",
     "text": [
      "Depósito de R$499.90 realizado com sucesso.\n"
     ]
    },
    {
     "name": "stdin",
     "output_type": "stream",
     "text": [
      "\n",
      "\n",
      "[d] Depositar\n",
      "[s] Sacar\n",
      "[e] Extrato\n",
      "[q] Sair\n",
      "\n",
      "=>  e\n"
     ]
    },
    {
     "name": "stdout",
     "output_type": "stream",
     "text": [
      "\n",
      "=============== EXTRATO =================\n",
      "Não foram realizadas movimentações\n",
      "Saldo: R$499.90\n",
      "Seu limite diário é de: R$500.00\n",
      "Você já realizou 0 saques hoje.\n",
      "==========================================\n"
     ]
    },
    {
     "name": "stdin",
     "output_type": "stream",
     "text": [
      "\n",
      "\n",
      "[d] Depositar\n",
      "[s] Sacar\n",
      "[e] Extrato\n",
      "[q] Sair\n",
      "\n",
      "=>  s\n",
      "Digite o valor que deseja sacar: 199.01\n"
     ]
    },
    {
     "name": "stdout",
     "output_type": "stream",
     "text": [
      "Saque de 199.01 realizado com sucesso.\n"
     ]
    },
    {
     "name": "stdin",
     "output_type": "stream",
     "text": [
      "\n",
      "\n",
      "[d] Depositar\n",
      "[s] Sacar\n",
      "[e] Extrato\n",
      "[q] Sair\n",
      "\n",
      "=>  e\n"
     ]
    },
    {
     "name": "stdout",
     "output_type": "stream",
     "text": [
      "\n",
      "=============== EXTRATO =================\n",
      "Saque de 199.01 realizado \n",
      "\n",
      "Saldo: R$300.89\n",
      "Seu limite diário é de: R$500.00\n",
      "Você já realizou 1 saques hoje.\n",
      "==========================================\n"
     ]
    },
    {
     "name": "stdin",
     "output_type": "stream",
     "text": [
      "\n",
      "\n",
      "[d] Depositar\n",
      "[s] Sacar\n",
      "[e] Extrato\n",
      "[q] Sair\n",
      "\n",
      "=>  s\n",
      "Digite o valor que deseja sacar: 27.58\n"
     ]
    },
    {
     "name": "stdout",
     "output_type": "stream",
     "text": [
      "Saque de 27.58 realizado com sucesso.\n"
     ]
    },
    {
     "name": "stdin",
     "output_type": "stream",
     "text": [
      "\n",
      "\n",
      "[d] Depositar\n",
      "[s] Sacar\n",
      "[e] Extrato\n",
      "[q] Sair\n",
      "\n",
      "=>  e\n"
     ]
    },
    {
     "name": "stdout",
     "output_type": "stream",
     "text": [
      "\n",
      "=============== EXTRATO =================\n",
      "Saque de 199.01 realizado \n",
      "Saque de 27.58 realizado \n",
      "\n",
      "Saldo: R$273.31\n",
      "Seu limite diário é de: R$500.00\n",
      "Você já realizou 2 saques hoje.\n",
      "==========================================\n"
     ]
    },
    {
     "name": "stdin",
     "output_type": "stream",
     "text": [
      "\n",
      "\n",
      "[d] Depositar\n",
      "[s] Sacar\n",
      "[e] Extrato\n",
      "[q] Sair\n",
      "\n",
      "=>  q\n"
     ]
    }
   ],
   "source": [
    "menu = '''\n",
    "\n",
    "[d] Depositar\n",
    "[s] Sacar\n",
    "[e] Extrato\n",
    "[q] Sair\n",
    "\n",
    "=> '''\n",
    "LIMITE_DIARIO = 500\n",
    "LIMITE_SAQUES = 3\n",
    "\n",
    "saldo = float(0)\n",
    "quantidade_saques = 0\n",
    "extrato = \"\"\n",
    "\n",
    "while True:\n",
    "    opcao = input(menu).lower()\n",
    "\n",
    "    if opcao == 'd':\n",
    "        valor_deposito = float(input('Digite o valor que deseja depositar:'))\n",
    "        if (valor_deposito <= 0):\n",
    "            print(\"Valor Inválido, tente novamente.\")\n",
    "        else:\n",
    "            saldo += float(valor_deposito)\n",
    "            print(f\"Depósito de R${valor_deposito:.2f} realizado com sucesso.\")\n",
    "    elif opcao == 's':\n",
    "        valor_saque = float(input('Digite o valor que deseja sacar:'))\n",
    "        if (valor_saque <= 0):\n",
    "            print(\"Valor Inválido, tente novamente.\")\n",
    "        elif (quantidade_saques < LIMITE_SAQUES and valor_saque <= LIMITE_DIARIO and saldo >= valor_saque) :\n",
    "            quantidade_saques += 1\n",
    "            saldo -= float(valor_saque)\n",
    "            print(f'Saque de {valor_saque} realizado com sucesso.')\n",
    "            extrato += f'Saque de {valor_saque} realizado \\n'\n",
    "        elif valor_saque > saldo:\n",
    "            print('Saldo insuficiente.')\n",
    "        else:\n",
    "            print(\"Operação Inválida, confira seu extrato.\")\n",
    "    elif opcao == 'e':\n",
    "        print(\"\\n=============== EXTRATO =================\")\n",
    "        print('Não foram realizadas movimentações' if not extrato else extrato)\n",
    "        print(f'Saldo: R${saldo:.2f}')\n",
    "        print(f'Seu limite diário é de: R${LIMITE_DIARIO:.2f}')\n",
    "        print(f'Você já realizou {quantidade_saques} saques hoje.')\n",
    "        #if len(extrato) > 0:\n",
    "            #print('\\n' + extrato)\n",
    "        print(\"==========================================\")\n",
    "    elif opcao == 'q':\n",
    "        break\n",
    "    else:\n",
    "        print(\"Operação inválida. Selecione um menu.\")"
   ]
  }
 ],
 "metadata": {
  "kernelspec": {
   "display_name": "Python 3 (ipykernel)",
   "language": "python",
   "name": "python3"
  },
  "language_info": {
   "codemirror_mode": {
    "name": "ipython",
    "version": 3
   },
   "file_extension": ".py",
   "mimetype": "text/x-python",
   "name": "python",
   "nbconvert_exporter": "python",
   "pygments_lexer": "ipython3",
   "version": "3.11.6"
  }
 },
 "nbformat": 4,
 "nbformat_minor": 5
}
